{
 "cells": [
  {
   "cell_type": "code",
   "execution_count": 1,
   "metadata": {},
   "outputs": [
    {
     "name": "stdout",
     "output_type": "stream",
     "text": [
      "23/03/17 07:18:36 WARN Utils: Your hostname, codespaces-42fe9a resolves to a loopback address: 127.0.0.1; using 172.16.5.4 instead (on interface eth0)\n",
      "23/03/17 07:18:36 WARN Utils: Set SPARK_LOCAL_IP if you need to bind to another address\n"
     ]
    },
    {
     "name": "stderr",
     "output_type": "stream",
     "text": [
      "Setting default log level to \"WARN\".\n",
      "To adjust logging level use sc.setLogLevel(newLevel). For SparkR, use setLogLevel(newLevel).\n"
     ]
    },
    {
     "name": "stdout",
     "output_type": "stream",
     "text": [
      "23/03/17 07:18:37 WARN NativeCodeLoader: Unable to load native-hadoop library for your platform... using builtin-java classes where applicable\n"
     ]
    },
    {
     "name": "stderr",
     "output_type": "stream",
     "text": [
      "                                                                                \r"
     ]
    },
    {
     "data": {
      "text/plain": [
       "[[1, 2, 3], [3, 4, 6], [5, 6, 7], [10, 12, 14]]"
      ]
     },
     "execution_count": 1,
     "metadata": {},
     "output_type": "execute_result"
    }
   ],
   "source": [
    "import pyspark\n",
    "from pyspark import SparkContext,SparkConf\n",
    "sc=SparkContext.getOrCreate()\n",
    "#myRDD=sc.parallelize([('Rama',11),('krishna',23),('Meena',5),('John',45),('Alfred',13),('Vinoth',21),('Sneha',18),('Priya',19)])\n",
    "myRDD=sc.parallelize([12,45,767,89,9,33,55,777,223])\n",
    "myRDD=sc.parallelize([\n",
    "                     [1,2,3],\n",
    "                     [3,4,6],\n",
    "                     [5,6,7],\n",
    "                     [10,12,14]\n",
    "                     ])\n",
    "myRDD.take(4)\n",
    "#myRDD.collect()# gets all the values that are present/stored in the  rdd\n",
    "#print(\" The number of Rdd values is \",str(myRDD.count()))"
   ]
  },
  {
   "cell_type": "code",
   "execution_count": 4,
   "metadata": {},
   "outputs": [
    {
     "data": {
      "text/plain": [
       "[[1, 2, 3], [3, 4, 6], [5, 6, 7], [10, 12, 14]]"
      ]
     },
     "execution_count": 4,
     "metadata": {},
     "output_type": "execute_result"
    }
   ],
   "source": [
    "import pyspark\n",
    "from pyspark import SparkContext,SparkConf\n",
    "sc=SparkContext.getOrCreate()\n",
    "#myRDD=sc.parallelize([('Rama',11),('krishna',23),('Meena',5),('John',45),('Alfred',13),('Vinoth',21),('Sneha',18),('Priya',19)])\n",
    "myRDD=sc.parallelize([12,45,767,89,9,33,55,777,223])\n",
    "myRDD=sc.parallelize([\n",
    "                     [1,2,3],\n",
    "                     [3,4,6],\n",
    "                     [5,6,7],\n",
    "                     [10,12,14]\n",
    "                     ])\n",
    "myRDD.take(4)\n",
    "#myRDD.collect()# gets all the values that are present/stored in the  rdd\n",
    "#print(\" The number of Rdd values is \",str(myRDD.count()))"
   ]
  },
  {
   "cell_type": "code",
   "execution_count": 6,
   "metadata": {},
   "outputs": [
    {
     "data": {
      "text/plain": [
       "[\"The United States of America (U.S.A. or USA), commonly known as the United States (U.S. or US) or America, is a country primarily located in North America. It consists of 50 states, a federal district, five major unincorporated territories, 326 Indian reservations, and nine minor outlying islands.[h] At nearly 3.8 million square miles (9.8 million square kilometers), it is the world's third- or fourth-largest country by geographic area.[c] The United States shares land borders with Canada to the north and Mexico to the south as well as maritime borders with the Bahamas, Cuba, Russia, and other countries.[i] With a population of more than 331 million people,[j] it is the third most populous country in the world. The national capital is Washington, D.C., and the most populous city and financial center is New York City.\"]"
      ]
     },
     "execution_count": 6,
     "metadata": {},
     "output_type": "execute_result"
    }
   ],
   "source": [
    "lines=sc.textFile(\"usa.txt\")\n",
    "lines.take(1)"
   ]
  }
 ],
 "metadata": {
  "kernelspec": {
   "display_name": "Python 3",
   "language": "python",
   "name": "python3"
  },
  "language_info": {
   "codemirror_mode": {
    "name": "ipython",
    "version": 3
   },
   "file_extension": ".py",
   "mimetype": "text/x-python",
   "name": "python",
   "nbconvert_exporter": "python",
   "pygments_lexer": "ipython3",
   "version": "3.10.4"
  },
  "orig_nbformat": 4,
  "vscode": {
   "interpreter": {
    "hash": "3ad933181bd8a04b432d3370b9dc3b0662ad032c4dfaa4e4f1596c548f763858"
   }
  }
 },
 "nbformat": 4,
 "nbformat_minor": 2
}
