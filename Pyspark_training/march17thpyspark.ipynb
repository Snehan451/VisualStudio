{
 "cells": [
  {
   "cell_type": "code",
   "execution_count": 3,
   "metadata": {},
   "outputs": [
    {
     "data": {
      "text/plain": [
       "[12, 45]"
      ]
     },
     "execution_count": 3,
     "metadata": {},
     "output_type": "execute_result"
    }
   ],
   "source": [
    "import pyspark\n",
    "from pyspark import SparkContext,SparkConf\n",
    "sc=SparkContext.getOrCreate()\n",
    "myRDD=sc.parallelize([('Rama',11),('krishna',23),('Meena',5),('John',45),('Alfred',13),('Vinoth',21),('Sneha',18),('Priya',19)])\n",
    "mypy=sc.parallelize([12,45,767,89,9,33,55,777,223])\n",
    "\"\"\"myRDD=sc.parallelize([\n",
    "                     [1,2,3],\n",
    "                     [3,4,6],\n",
    "                     [5,6,7],\n",
    "                     [10,12,14]\n",
    "                     ])\"\"\"\n",
    "myRDD.take(2)\n",
    "mypy.take(2)\n",
    "#myRDD.collect() # gets all the values that are present/stored in the  rdd\n",
    "#print(\" The number of Rdd values is \",str(myRDD.count()))\n",
    "\n",
    "\n",
    "\n",
    "\n"
   ]
  },
  {
   "cell_type": "code",
   "execution_count": 4,
   "metadata": {},
   "outputs": [
    {
     "name": "stdout",
     "output_type": "stream",
     "text": [
      " The number of Rdd values is  8\n"
     ]
    }
   ],
   "source": [
    "myRDD.collect() # gets all the values that are present/stored in the  rdd\n",
    "print(\" The number of Rdd values is \",str(myRDD.count()))\n"
   ]
  },
  {
   "cell_type": "code",
   "execution_count": 18,
   "metadata": {},
   "outputs": [
    {
     "data": {
      "text/plain": [
       "[\"The United States of America (U.S.A. or USA), commonly known as the United States (U.S. or US) or America, is a country primarily located in North America. It consists of 50 states, a federal district, five major unincorporated territories, 326 Indian reservations, and nine minor outlying islands.[h] At nearly 3.8 million square miles (9.8 million square kilometers), it is the world's third- or fourth-largest country by geographic area.[c] The United States shares land borders with Canada to the north and Mexico to the south as well as maritime borders with the Bahamas, Cuba, Russia, and other countries.[i] With a population of more than 331 million people,[j] it is the third most populous country in the world. The national capital is Washington, D.C., and the most populous city and financial center is New York City.\"]"
      ]
     },
     "execution_count": 18,
     "metadata": {},
     "output_type": "execute_result"
    }
   ],
   "source": [
    "lines=sc.textFile(\"../usa.txt\")# reading the file \n",
    "lines.take(1)"
   ]
  },
  {
   "cell_type": "code",
   "execution_count": 13,
   "metadata": {},
   "outputs": [
    {
     "data": {
      "text/plain": [
       "<bound method RDD.getNumPartitions of ParallelCollectionRDD[0] at readRDDFromFile at PythonRDD.scala:274>"
      ]
     },
     "execution_count": 13,
     "metadata": {},
     "output_type": "execute_result"
    }
   ],
   "source": [
    "myRDD.getNumPartitions"
   ]
  },
  {
   "cell_type": "code",
   "execution_count": 19,
   "metadata": {},
   "outputs": [
    {
     "data": {
      "text/plain": [
       "['The',\n",
       " 'United',\n",
       " 'States',\n",
       " 'of',\n",
       " 'America',\n",
       " '(U.S.A.',\n",
       " 'or',\n",
       " 'USA),',\n",
       " 'commonly',\n",
       " 'known',\n",
       " 'as',\n",
       " 'the',\n",
       " 'United',\n",
       " 'States',\n",
       " '(U.S.',\n",
       " 'or',\n",
       " 'US)',\n",
       " 'or',\n",
       " 'America,',\n",
       " 'is',\n",
       " 'a',\n",
       " 'country',\n",
       " 'primarily',\n",
       " 'located',\n",
       " 'in',\n",
       " 'North',\n",
       " 'America.',\n",
       " 'It',\n",
       " 'consists',\n",
       " 'of',\n",
       " '50',\n",
       " 'states,',\n",
       " 'a',\n",
       " 'federal',\n",
       " 'district,',\n",
       " 'five',\n",
       " 'major',\n",
       " 'unincorporated',\n",
       " 'territories,',\n",
       " '326',\n",
       " 'Indian',\n",
       " 'reservations,',\n",
       " 'and',\n",
       " 'nine',\n",
       " 'minor',\n",
       " 'outlying',\n",
       " 'islands.[h]',\n",
       " 'At',\n",
       " 'nearly',\n",
       " '3.8']"
      ]
     },
     "execution_count": 19,
     "metadata": {},
     "output_type": "execute_result"
    }
   ],
   "source": [
    "words=lines.flatMap(lambda x:x.split(' '))\n",
    "words.take(50)"
   ]
  },
  {
   "cell_type": "code",
   "execution_count": 5,
   "metadata": {},
   "outputs": [
    {
     "data": {
      "text/plain": [
       "[('the', 1),\n",
       " ('united', 1),\n",
       " ('states', 1),\n",
       " ('of', 1),\n",
       " ('america', 1),\n",
       " ('(u.s.a.', 1),\n",
       " ('or', 1),\n",
       " ('usa),', 1),\n",
       " ('commonly', 1),\n",
       " ('known', 1)]"
      ]
     },
     "execution_count": 5,
     "metadata": {},
     "output_type": "execute_result"
    }
   ],
   "source": [
    "# converting into lower case \n",
    "wcnt=words.map(lambda x:(x.lower(),1))\n",
    "wcnt.take(10)"
   ]
  },
  {
   "cell_type": "code",
   "execution_count": 6,
   "metadata": {},
   "outputs": [
    {
     "name": "stderr",
     "output_type": "stream",
     "text": [
      "                                                                                \r"
     ]
    },
    {
     "data": {
      "text/plain": [
       "[('united', 14), ('of', 20), ('america', 1), ('usa),', 1), ('known', 1)]"
      ]
     },
     "execution_count": 6,
     "metadata": {},
     "output_type": "execute_result"
    }
   ],
   "source": [
    "#using reduce by key\n",
    "\n",
    "cnts=wcnt.reduceByKey(lambda x,y:x+y)\n",
    "cnts.take(5)"
   ]
  },
  {
   "cell_type": "code",
   "execution_count": 7,
   "metadata": {},
   "outputs": [
    {
     "data": {
      "text/plain": [
       "[('the', 55),\n",
       " ('and', 24),\n",
       " ('of', 20),\n",
       " ('united', 14),\n",
       " ('is', 13),\n",
       " ('in', 13),\n",
       " ('a', 13),\n",
       " ('states', 12),\n",
       " ('it', 9),\n",
       " ('to', 7),\n",
       " ('as', 6),\n",
       " (\"world's\", 6),\n",
       " ('by', 6),\n",
       " ('world', 5),\n",
       " ('with', 5),\n",
       " ('american', 5),\n",
       " ('war', 5),\n",
       " ('or', 4),\n",
       " ('north', 4),\n",
       " ('its', 4)]"
      ]
     },
     "execution_count": 7,
     "metadata": {},
     "output_type": "execute_result"
    }
   ],
   "source": [
    "cnts.top(20,lambda x:x[1])\n"
   ]
  },
  {
   "cell_type": "code",
   "execution_count": 8,
   "metadata": {},
   "outputs": [
    {
     "data": {
      "text/plain": [
       "[('states', 12),\n",
       " ('it', 9),\n",
       " ('to', 7),\n",
       " ('as', 6),\n",
       " (\"world's\", 6),\n",
       " ('by', 6),\n",
       " ('world', 5),\n",
       " ('with', 5),\n",
       " ('american', 5),\n",
       " ('war', 5),\n",
       " ('or', 4),\n",
       " ('north', 4),\n",
       " ('its', 4),\n",
       " ('country', 3),\n",
       " ('at', 3),\n",
       " ('population', 3),\n",
       " ('new', 3),\n",
       " ('established', 3),\n",
       " ('war,', 3),\n",
       " ('million', 3),\n",
       " ('from', 3),\n",
       " ('military', 3),\n",
       " ('international', 3),\n",
       " ('largest', 3),\n",
       " ('america,', 2),\n",
       " ('states,', 2),\n",
       " ('square', 2),\n",
       " ('other', 2),\n",
       " ('more', 2),\n",
       " ('than', 2),\n",
       " ('third', 2),\n",
       " ('populous', 2),\n",
       " ('east', 2),\n",
       " ('led', 2),\n",
       " ('was', 2),\n",
       " ('soviet', 2),\n",
       " ('cold', 2),\n",
       " ('global', 2),\n",
       " ('federal', 2),\n",
       " ('territories,', 2),\n",
       " ('borders', 2),\n",
       " ('most', 2),\n",
       " ('capital', 2),\n",
       " ('began', 2),\n",
       " ('over', 2),\n",
       " ('century,', 2),\n",
       " ('u.s.', 2),\n",
       " ('member', 2),\n",
       " ('has', 2),\n",
       " ('for', 2)]"
      ]
     },
     "execution_count": 8,
     "metadata": {},
     "output_type": "execute_result"
    }
   ],
   "source": [
    "stop=['','the','a', 'is','in','and','of','united']\n",
    "ws=cnts.filter(lambda x:x[0] not in stop)\n",
    "ws.top(50,lambda x:x[1])"
   ]
  },
  {
   "cell_type": "code",
   "execution_count": null,
   "metadata": {},
   "outputs": [],
   "source": []
  }
 ],
 "metadata": {
  "kernelspec": {
   "display_name": "Python 3",
   "language": "python",
   "name": "python3"
  },
  "language_info": {
   "codemirror_mode": {
    "name": "ipython",
    "version": 3
   },
   "file_extension": ".py",
   "mimetype": "text/x-python",
   "name": "python",
   "nbconvert_exporter": "python",
   "pygments_lexer": "ipython3",
   "version": "3.10.4"
  },
  "vscode": {
   "interpreter": {
    "hash": "3ad933181bd8a04b432d3370b9dc3b0662ad032c4dfaa4e4f1596c548f763858"
   }
  }
 },
 "nbformat": 4,
 "nbformat_minor": 4
}
