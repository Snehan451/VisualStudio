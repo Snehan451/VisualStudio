{
 "cells": [
  {
   "cell_type": "code",
   "execution_count": 1,
   "metadata": {},
   "outputs": [
    {
     "name": "stdout",
     "output_type": "stream",
     "text": [
      "Requirement already satisfied: pyspark in /usr/local/python/3.10.4/lib/python3.10/site-packages (3.3.2)\n",
      "Requirement already satisfied: py4j==0.10.9.5 in /usr/local/python/3.10.4/lib/python3.10/site-packages (from pyspark) (0.10.9.5)\n",
      "\n",
      "\u001b[1m[\u001b[0m\u001b[34;49mnotice\u001b[0m\u001b[1;39;49m]\u001b[0m\u001b[39;49m A new release of pip is available: \u001b[0m\u001b[31;49m23.0\u001b[0m\u001b[39;49m -> \u001b[0m\u001b[32;49m23.0.1\u001b[0m\n",
      "\u001b[1m[\u001b[0m\u001b[34;49mnotice\u001b[0m\u001b[1;39;49m]\u001b[0m\u001b[39;49m To update, run: \u001b[0m\u001b[32;49mpython -m pip install --upgrade pip\u001b[0m\n"
     ]
    }
   ],
   "source": [
    "!pip install pyspark"
   ]
  },
  {
   "cell_type": "code",
   "execution_count": 2,
   "metadata": {},
   "outputs": [
    {
     "name": "stdout",
     "output_type": "stream",
     "text": [
      "23/03/14 00:58:33 WARN Utils: Your hostname, codespaces-42fe9a resolves to a loopback address: 127.0.0.1; using 172.16.5.4 instead (on interface eth0)\n",
      "23/03/14 00:58:33 WARN Utils: Set SPARK_LOCAL_IP if you need to bind to another address\n"
     ]
    },
    {
     "name": "stderr",
     "output_type": "stream",
     "text": [
      "Setting default log level to \"WARN\".\n",
      "To adjust logging level use sc.setLogLevel(newLevel). For SparkR, use setLogLevel(newLevel).\n"
     ]
    },
    {
     "name": "stdout",
     "output_type": "stream",
     "text": [
      "23/03/14 00:58:34 WARN NativeCodeLoader: Unable to load native-hadoop library for your platform... using builtin-java classes where applicable\n"
     ]
    },
    {
     "ename": "NameError",
     "evalue": "name 'Sneha' is not defined",
     "output_type": "error",
     "traceback": [
      "\u001b[0;31m---------------------------------------------------------------------------\u001b[0m",
      "\u001b[0;31mNameError\u001b[0m                                 Traceback (most recent call last)",
      "Cell \u001b[0;32mIn[2], line 4\u001b[0m\n\u001b[1;32m      2\u001b[0m \u001b[39mfrom\u001b[39;00m \u001b[39mpyspark\u001b[39;00m \u001b[39mimport\u001b[39;00m SparkContext,SparkConf\n\u001b[1;32m      3\u001b[0m sc\u001b[39m=\u001b[39mSparkContext\u001b[39m.\u001b[39mgetOrCreate()\n\u001b[0;32m----> 4\u001b[0m myRDD\u001b[39m=\u001b[39msc\u001b[39m.\u001b[39mparallelize[(Sneha,\u001b[39m98\u001b[39m),(Preeti,\u001b[39m79\u001b[39m),(Sushma,\u001b[39m89\u001b[39m),(vidya,\u001b[39m88\u001b[39m)]\n\u001b[1;32m      5\u001b[0m myRDD\u001b[39m.\u001b[39mtake(\u001b[39m2\u001b[39m)\n",
      "\u001b[0;31mNameError\u001b[0m: name 'Sneha' is not defined"
     ]
    }
   ],
   "source": [
    "import pyspark\n",
    "from pyspark import SparkContext,SparkConf\n",
    "sc=SparkContext.getOrCreate()\n",
    "myRDD=sc.parallelize[(Sneha,98),(Preeti,79),(Sushma,89),(vidya,88)]\n",
    "myRDD.take(2)"
   ]
  },
  {
   "cell_type": "code",
   "execution_count": 5,
   "metadata": {},
   "outputs": [
    {
     "ename": "TypeError",
     "evalue": "'method' object is not subscriptable",
     "output_type": "error",
     "traceback": [
      "\u001b[0;31m---------------------------------------------------------------------------\u001b[0m",
      "\u001b[0;31mTypeError\u001b[0m                                 Traceback (most recent call last)",
      "Cell \u001b[0;32mIn[5], line 3\u001b[0m\n\u001b[1;32m      1\u001b[0m \u001b[39mfrom\u001b[39;00m \u001b[39mpyspark\u001b[39;00m \u001b[39mimport\u001b[39;00m SparkContext,SparkConf\n\u001b[1;32m      2\u001b[0m sc\u001b[39m=\u001b[39mSparkContext\u001b[39m.\u001b[39mgetOrCreate()\n\u001b[0;32m----> 3\u001b[0m myRDD\u001b[39m=\u001b[39msc\u001b[39m.\u001b[39;49mparallelize[(\u001b[39m'\u001b[39;49m\u001b[39mSneha\u001b[39;49m\u001b[39m'\u001b[39;49m,\u001b[39m98\u001b[39;49m),(\u001b[39m'\u001b[39;49m\u001b[39mPreeti\u001b[39;49m\u001b[39m'\u001b[39;49m,\u001b[39m79\u001b[39;49m),(\u001b[39m'\u001b[39;49m\u001b[39mSushma\u001b[39;49m\u001b[39m'\u001b[39;49m,\u001b[39m89\u001b[39;49m),(\u001b[39m'\u001b[39;49m\u001b[39mvidya\u001b[39;49m\u001b[39m'\u001b[39;49m,\u001b[39m88\u001b[39;49m)]\n\u001b[1;32m      4\u001b[0m myRDD\u001b[39m.\u001b[39mtake(\u001b[39m2\u001b[39m)\n",
      "\u001b[0;31mTypeError\u001b[0m: 'method' object is not subscriptable"
     ]
    }
   ],
   "source": [
    "from pyspark import SparkContext,SparkConf\n",
    "sc=SparkContext.getOrCreate()\n",
    "myRDD=sc.parallelize[('Sneha',98),('Preeti',79),('Sushma',89),('vidya',88)]\n",
    "myRDD.take(2)"
   ]
  }
 ],
 "metadata": {
  "kernelspec": {
   "display_name": "Python 3",
   "language": "python",
   "name": "python3"
  },
  "language_info": {
   "codemirror_mode": {
    "name": "ipython",
    "version": 3
   },
   "file_extension": ".py",
   "mimetype": "text/x-python",
   "name": "python",
   "nbconvert_exporter": "python",
   "pygments_lexer": "ipython3",
   "version": "3.10.4"
  },
  "orig_nbformat": 4
 },
 "nbformat": 4,
 "nbformat_minor": 2
}
